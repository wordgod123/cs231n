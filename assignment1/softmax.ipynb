{
 "cells": [
  {
   "cell_type": "markdown",
   "metadata": {},
   "source": [
    "# Softmax exercise\n",
    "\n",
    "*Complete and hand in this completed worksheet (including its outputs and any supporting code outside of the worksheet) with your assignment submission. For more details see the [assignments page](http://vision.stanford.edu/teaching/cs231n/assignments.html) on the course website.*\n",
    "\n",
    "This exercise is analogous to the SVM exercise. You will:\n",
    "\n",
    "- implement a fully-vectorized **loss function** for the Softmax classifier\n",
    "- implement the fully-vectorized expression for its **analytic gradient**\n",
    "- **check your implementation** with numerical gradient\n",
    "- use a validation set to **tune the learning rate and regularization** strength\n",
    "- **optimize** the loss function with **SGD**\n",
    "- **visualize** the final learned weights\n"
   ]
  },
  {
   "cell_type": "code",
   "execution_count": 1,
   "metadata": {
    "collapsed": false
   },
   "outputs": [],
   "source": [
    "import random\n",
    "import numpy as np\n",
    "from cs231n.data_utils import load_CIFAR10\n",
    "import matplotlib.pyplot as plt\n",
    "\n",
    "from __future__ import print_function\n",
    "\n",
    "%matplotlib inline\n",
    "plt.rcParams['figure.figsize'] = (10.0, 8.0) # set default size of plots\n",
    "plt.rcParams['image.interpolation'] = 'nearest'\n",
    "plt.rcParams['image.cmap'] = 'gray'\n",
    "\n",
    "# for auto-reloading extenrnal modules\n",
    "# see http://stackoverflow.com/questions/1907993/autoreload-of-modules-in-ipython\n",
    "%load_ext autoreload\n",
    "%autoreload 2"
   ]
  },
  {
   "cell_type": "code",
   "execution_count": 2,
   "metadata": {
    "collapsed": false
   },
   "outputs": [
    {
     "name": "stdout",
     "output_type": "stream",
     "text": [
      "Train data shape:  (49000, 3073)\n",
      "Train labels shape:  (49000,)\n",
      "Validation data shape:  (1000, 3073)\n",
      "Validation labels shape:  (1000,)\n",
      "Test data shape:  (1000, 3073)\n",
      "Test labels shape:  (1000,)\n",
      "dev data shape:  (500, 3073)\n",
      "dev labels shape:  (500,)\n"
     ]
    }
   ],
   "source": [
    "def get_CIFAR10_data(num_training=49000, num_validation=1000, num_test=1000, num_dev=500):\n",
    "    \"\"\"\n",
    "    Load the CIFAR-10 dataset from disk and perform preprocessing to prepare\n",
    "    it for the linear classifier. These are the same steps as we used for the\n",
    "    SVM, but condensed to a single function.  \n",
    "    \"\"\"\n",
    "    # Load the raw CIFAR-10 data\n",
    "    cifar10_dir = 'cs231n/datasets/cifar-10-batches-py'\n",
    "    X_train, y_train, X_test, y_test = load_CIFAR10(cifar10_dir)\n",
    "    \n",
    "    # subsample the data\n",
    "    mask = list(range(num_training, num_training + num_validation))\n",
    "    X_val = X_train[mask]\n",
    "    y_val = y_train[mask]\n",
    "    mask = list(range(num_training))\n",
    "    X_train = X_train[mask]\n",
    "    y_train = y_train[mask]\n",
    "    mask = list(range(num_test))\n",
    "    X_test = X_test[mask]\n",
    "    y_test = y_test[mask]\n",
    "    mask = np.random.choice(num_training, num_dev, replace=False)\n",
    "    X_dev = X_train[mask]\n",
    "    y_dev = y_train[mask]\n",
    "    \n",
    "    # Preprocessing: reshape the image data into rows\n",
    "    X_train = np.reshape(X_train, (X_train.shape[0], -1))\n",
    "    X_val = np.reshape(X_val, (X_val.shape[0], -1))\n",
    "    X_test = np.reshape(X_test, (X_test.shape[0], -1))\n",
    "    X_dev = np.reshape(X_dev, (X_dev.shape[0], -1))\n",
    "    \n",
    "    # Normalize the data: subtract the mean image\n",
    "    mean_image = np.mean(X_train, axis = 0)\n",
    "    X_train -= mean_image\n",
    "    X_val -= mean_image\n",
    "    X_test -= mean_image\n",
    "    X_dev -= mean_image\n",
    "    \n",
    "    # add bias dimension and transform into columns\n",
    "    X_train = np.hstack([X_train, np.ones((X_train.shape[0], 1))])\n",
    "    X_val = np.hstack([X_val, np.ones((X_val.shape[0], 1))])\n",
    "    X_test = np.hstack([X_test, np.ones((X_test.shape[0], 1))])\n",
    "    X_dev = np.hstack([X_dev, np.ones((X_dev.shape[0], 1))])\n",
    "    \n",
    "    return X_train, y_train, X_val, y_val, X_test, y_test, X_dev, y_dev\n",
    "\n",
    "\n",
    "# Invoke the above function to get our data.\n",
    "X_train, y_train, X_val, y_val, X_test, y_test, X_dev, y_dev = get_CIFAR10_data()\n",
    "print('Train data shape: ', X_train.shape)\n",
    "print('Train labels shape: ', y_train.shape)\n",
    "print('Validation data shape: ', X_val.shape)\n",
    "print('Validation labels shape: ', y_val.shape)\n",
    "print('Test data shape: ', X_test.shape)\n",
    "print('Test labels shape: ', y_test.shape)\n",
    "print('dev data shape: ', X_dev.shape)\n",
    "print('dev labels shape: ', y_dev.shape)"
   ]
  },
  {
   "cell_type": "markdown",
   "metadata": {},
   "source": [
    "## Softmax Classifier\n",
    "\n",
    "Your code for this section will all be written inside **cs231n/classifiers/softmax.py**. \n"
   ]
  },
  {
   "cell_type": "code",
   "execution_count": 3,
   "metadata": {
    "collapsed": false
   },
   "outputs": [
    {
     "name": "stdout",
     "output_type": "stream",
     "text": [
      "loss: 2.408798\n",
      "sanity check: 2.302585\n"
     ]
    }
   ],
   "source": [
    "# First implement the naive softmax loss function with nested loops.\n",
    "# Open the file cs231n/classifiers/softmax.py and implement the\n",
    "# softmax_loss_naive function.\n",
    "\n",
    "from cs231n.classifiers.softmax import softmax_loss_naive\n",
    "import time\n",
    "\n",
    "# Generate a random softmax weight matrix and use it to compute the loss.\n",
    "W = np.random.randn(3073, 10) * 0.0001\n",
    "loss, grad = softmax_loss_naive(W, X_dev, y_dev, 0.0)\n",
    "\n",
    "# As a rough sanity check, our loss should be something close to -log(0.1).\n",
    "print('loss: %f' % loss)\n",
    "print('sanity check: %f' % (-np.log(0.1)))"
   ]
  },
  {
   "cell_type": "markdown",
   "metadata": {},
   "source": [
    "## Inline Question 1:\n",
    "Why do we expect our loss to be close to -log(0.1)? Explain briefly.**\n",
    "\n",
    "**Your answer:** *Fill this in*\n"
   ]
  },
  {
   "cell_type": "code",
   "execution_count": 4,
   "metadata": {
    "collapsed": false
   },
   "outputs": [
    {
     "name": "stdout",
     "output_type": "stream",
     "text": [
      "numerical: -2.454968 analytic: -2.454968, relative error: 8.955649e-09\n",
      "numerical: 0.561357 analytic: 0.561357, relative error: 1.355572e-07\n",
      "numerical: -1.194106 analytic: -1.194106, relative error: 6.973547e-08\n",
      "numerical: 1.180611 analytic: 1.180611, relative error: 8.584243e-08\n",
      "numerical: 0.204738 analytic: 0.204737, relative error: 2.721871e-07\n",
      "numerical: -0.928307 analytic: -0.928307, relative error: 1.988671e-08\n",
      "numerical: 3.737753 analytic: 3.737753, relative error: 9.394012e-09\n",
      "numerical: 3.101883 analytic: 3.101883, relative error: 1.394273e-08\n",
      "numerical: -0.464701 analytic: -0.464701, relative error: 4.577555e-08\n",
      "numerical: 0.933946 analytic: 0.933946, relative error: 3.149808e-08\n",
      "numerical: -0.535368 analytic: -0.535369, relative error: 6.694840e-08\n",
      "numerical: 1.506053 analytic: 1.506053, relative error: 2.732923e-08\n",
      "numerical: -0.384043 analytic: -0.384043, relative error: 2.543723e-08\n",
      "numerical: 2.481868 analytic: 2.481868, relative error: 2.842593e-08\n",
      "numerical: -2.847487 analytic: -2.847487, relative error: 1.040905e-08\n",
      "numerical: -1.251080 analytic: -1.251080, relative error: 1.159468e-09\n",
      "numerical: 2.666465 analytic: 2.666465, relative error: 8.371289e-09\n",
      "numerical: 1.080484 analytic: 1.080484, relative error: 2.654105e-09\n",
      "numerical: -1.217428 analytic: -1.217428, relative error: 4.223393e-09\n",
      "numerical: -0.139820 analytic: -0.139820, relative error: 8.274155e-09\n"
     ]
    }
   ],
   "source": [
    "# Complete the implementation of softmax_loss_naive and implement a (naive)\n",
    "# version of the gradient that uses nested loops.\n",
    "loss, grad = softmax_loss_naive(W, X_dev, y_dev, 0.0)\n",
    "\n",
    "# As we did for the SVM, use numeric gradient checking as a debugging tool.\n",
    "# The numeric gradient should be close to the analytic gradient.\n",
    "from cs231n.gradient_check import grad_check_sparse\n",
    "f = lambda w: softmax_loss_naive(w, X_dev, y_dev, 0.0)[0]\n",
    "grad_numerical = grad_check_sparse(f, W, grad, 10)\n",
    "\n",
    "# similar to SVM case, do another gradient check with regularization\n",
    "loss, grad = softmax_loss_naive(W, X_dev, y_dev, 5e1)\n",
    "f = lambda w: softmax_loss_naive(w, X_dev, y_dev, 5e1)[0]\n",
    "grad_numerical = grad_check_sparse(f, W, grad, 10)"
   ]
  },
  {
   "cell_type": "code",
   "execution_count": 6,
   "metadata": {
    "collapsed": false
   },
   "outputs": [
    {
     "name": "stdout",
     "output_type": "stream",
     "text": [
      "naive loss: 2.408798e+00 computed in 0.102128s\n",
      "vectorized loss: 2.408798e+00 computed in 0.006894s\n",
      "Loss difference: 0.000000\n",
      "Gradient difference: 0.000000\n"
     ]
    }
   ],
   "source": [
    "# Now that we have a naive implementation of the softmax loss function and its gradient,\n",
    "# implement a vectorized version in softmax_loss_vectorized.\n",
    "# The two versions should compute the same results, but the vectorized version should be\n",
    "# much faster.\n",
    "tic = time.time()\n",
    "loss_naive, grad_naive = softmax_loss_naive(W, X_dev, y_dev, 0.000005)\n",
    "toc = time.time()\n",
    "print('naive loss: %e computed in %fs' % (loss_naive, toc - tic))\n",
    "\n",
    "from cs231n.classifiers.softmax import softmax_loss_vectorized\n",
    "tic = time.time()\n",
    "loss_vectorized, grad_vectorized = softmax_loss_vectorized(W, X_dev, y_dev, 0.000005)\n",
    "toc = time.time()\n",
    "print('vectorized loss: %e computed in %fs' % (loss_vectorized, toc - tic))\n",
    "\n",
    "# As we did for the SVM, we use the Frobenius norm to compare the two versions\n",
    "# of the gradient.\n",
    "grad_difference = np.linalg.norm(grad_naive - grad_vectorized, ord='fro')\n",
    "print('Loss difference: %f' % np.abs(loss_naive - loss_vectorized))\n",
    "print('Gradient difference: %f' % grad_difference)"
   ]
  },
  {
   "cell_type": "code",
   "execution_count": 7,
   "metadata": {
    "collapsed": false
   },
   "outputs": [
    {
     "name": "stdout",
     "output_type": "stream",
     "text": [
      "iteration 0 / 1500: loss 387.616585\n",
      "iteration 100 / 1500: loss 234.636146\n",
      "iteration 200 / 1500: loss 142.539587\n",
      "iteration 300 / 1500: loss 86.962138\n",
      "iteration 400 / 1500: loss 53.394455\n",
      "iteration 500 / 1500: loss 33.072552\n",
      "iteration 600 / 1500: loss 20.858503\n",
      "iteration 700 / 1500: loss 13.410323\n",
      "iteration 800 / 1500: loss 8.884596\n",
      "iteration 900 / 1500: loss 6.145346\n",
      "iteration 1000 / 1500: loss 4.541950\n",
      "iteration 1100 / 1500: loss 3.624382\n",
      "iteration 1200 / 1500: loss 2.958272\n",
      "iteration 1300 / 1500: loss 2.624063\n",
      "iteration 1400 / 1500: loss 2.345485\n",
      "iteration 0 / 1500: loss 773.999665\n",
      "iteration 100 / 1500: loss 284.458061\n",
      "iteration 200 / 1500: loss 105.345040\n",
      "iteration 300 / 1500: loss 39.893652\n",
      "iteration 400 / 1500: loss 15.856411\n",
      "iteration 500 / 1500: loss 7.219688\n",
      "iteration 600 / 1500: loss 3.986775\n",
      "iteration 700 / 1500: loss 2.777938\n",
      "iteration 800 / 1500: loss 2.364957\n",
      "iteration 900 / 1500: loss 2.157485\n",
      "iteration 1000 / 1500: loss 2.103247\n",
      "iteration 1100 / 1500: loss 2.054071\n",
      "iteration 1200 / 1500: loss 2.006867\n",
      "iteration 1300 / 1500: loss 2.061253\n",
      "iteration 1400 / 1500: loss 2.046550\n",
      "iteration 0 / 1500: loss 391.241311\n",
      "iteration 100 / 1500: loss 32.932290\n",
      "iteration 200 / 1500: loss 4.577444\n",
      "iteration 300 / 1500: loss 2.187959\n",
      "iteration 400 / 1500: loss 2.076939\n",
      "iteration 500 / 1500: loss 1.984294\n",
      "iteration 600 / 1500: loss 2.016402\n",
      "iteration 700 / 1500: loss 2.009566\n",
      "iteration 800 / 1500: loss 1.982862\n",
      "iteration 900 / 1500: loss 2.067737\n",
      "iteration 1000 / 1500: loss 2.116719\n",
      "iteration 1100 / 1500: loss 2.085607\n",
      "iteration 1200 / 1500: loss 2.064256\n",
      "iteration 1300 / 1500: loss 2.018941\n",
      "iteration 1400 / 1500: loss 2.001525\n",
      "iteration 0 / 1500: loss 770.579495\n",
      "iteration 100 / 1500: loss 6.879708\n",
      "iteration 200 / 1500: loss 2.099565\n",
      "iteration 300 / 1500: loss 2.070870\n",
      "iteration 400 / 1500: loss 2.134341\n",
      "iteration 500 / 1500: loss 2.047794\n",
      "iteration 600 / 1500: loss 2.053156\n",
      "iteration 700 / 1500: loss 2.045775\n",
      "iteration 800 / 1500: loss 2.047862\n",
      "iteration 900 / 1500: loss 2.068775\n",
      "iteration 1000 / 1500: loss 2.131340\n",
      "iteration 1100 / 1500: loss 2.101100\n",
      "iteration 1200 / 1500: loss 2.087005\n",
      "iteration 1300 / 1500: loss 2.141682\n",
      "iteration 1400 / 1500: loss 2.136561\n",
      "lr 2.500000e+04 reg 1.000000e-07 train accuracy: 0.352306 val accuracy: 0.358000\n",
      "lr 2.500000e+04 reg 5.000000e-07 train accuracy: 0.344306 val accuracy: 0.349000\n",
      "lr 5.000000e+04 reg 1.000000e-07 train accuracy: 0.329061 val accuracy: 0.340000\n",
      "lr 5.000000e+04 reg 5.000000e-07 train accuracy: 0.329571 val accuracy: 0.341000\n",
      "best validation accuracy achieved during cross-validation: 0.358000\n"
     ]
    }
   ],
   "source": [
    "# Use the validation set to tune hyperparameters (regularization strength and\n",
    "# learning rate). You should experiment with different ranges for the learning\n",
    "# rates and regularization strengths; if you are careful you should be able to\n",
    "# get a classification accuracy of over 0.35 on the validation set.\n",
    "from cs231n.classifiers import Softmax\n",
    "results = {}\n",
    "best_val = -1\n",
    "best_softmax = None\n",
    "learning_rates = [1e-7, 5e-7]\n",
    "regularization_strengths = [2.5e4, 5e4]\n",
    "\n",
    "################################################################################\n",
    "# TODO:                                                                        #\n",
    "# Use the validation set to set the learning rate and regularization strength. #\n",
    "# This should be identical to the validation that you did for the SVM; save    #\n",
    "# the best trained softmax classifer in best_softmax.                          #\n",
    "################################################################################\n",
    "for learning_rate in learning_rates:\n",
    "    for regularization_strength in regularization_strengths:\n",
    "        sf = Softmax()\n",
    "        loss_history = sf.train(X_train, y_train, learning_rate=learning_rate, \n",
    "                                 reg=regularization_strength, \n",
    "                      num_iters=1500,\n",
    "                      verbose=True)\n",
    "        y_train_pred = sf.predict(X_train)\n",
    "        training_accuracy = np.mean(y_train_pred == y_train)\n",
    "        y_pred = sf.predict(X_val)\n",
    "        accuracy = np.mean(y_pred==y_val)\n",
    "        if best_val < accuracy:\n",
    "            best_val = accuracy\n",
    "            best_softmax = sf\n",
    "        results[(regularization_strength, learning_rate)] = (training_accuracy, accuracy)\n",
    "pass\n",
    "################################################################################\n",
    "#                              END OF YOUR CODE                                #\n",
    "################################################################################\n",
    "    \n",
    "# Print out results.\n",
    "for lr, reg in sorted(results):\n",
    "    train_accuracy, val_accuracy = results[(lr, reg)]\n",
    "    print('lr %e reg %e train accuracy: %f val accuracy: %f' % (\n",
    "                lr, reg, train_accuracy, val_accuracy))\n",
    "    \n",
    "print('best validation accuracy achieved during cross-validation: %f' % best_val)"
   ]
  },
  {
   "cell_type": "code",
   "execution_count": 8,
   "metadata": {
    "collapsed": false
   },
   "outputs": [
    {
     "name": "stdout",
     "output_type": "stream",
     "text": [
      "softmax on raw pixels final test set accuracy: 0.360000\n"
     ]
    }
   ],
   "source": [
    "# evaluate on test set\n",
    "# Evaluate the best softmax on test set\n",
    "y_test_pred = best_softmax.predict(X_test)\n",
    "test_accuracy = np.mean(y_test == y_test_pred)\n",
    "print('softmax on raw pixels final test set accuracy: %f' % (test_accuracy, ))"
   ]
  },
  {
   "cell_type": "code",
   "execution_count": 9,
   "metadata": {
    "collapsed": false
   },
   "outputs": [
    {
     "data": {
      "image/png": "[encoded data removed]",
      "text/plain": [
       "<matplotlib.figure.Figure at 0x11456f2e8>"
      ]
     },
     "metadata": {},
     "output_type": "display_data"
    }
   ],
   "source": [
    "# Visualize the learned weights for each class\n",
    "w = best_softmax.W[:-1,:] # strip out the bias\n",
    "w = w.reshape(32, 32, 3, 10)\n",
    "\n",
    "w_min, w_max = np.min(w), np.max(w)\n",
    "\n",
    "classes = ['plane', 'car', 'bird', 'cat', 'deer', 'dog', 'frog', 'horse', 'ship', 'truck']\n",
    "for i in range(10):\n",
    "    plt.subplot(2, 5, i + 1)\n",
    "    \n",
    "    # Rescale the weights to be between 0 and 255\n",
    "    wimg = 255.0 * (w[:, :, :, i].squeeze() - w_min) / (w_max - w_min)\n",
    "    plt.imshow(wimg.astype('uint8'))\n",
    "    plt.axis('off')\n",
    "    plt.title(classes[i])"
   ]
  }
 ],
 "metadata": {
  "kernelspec": {
   "display_name": "Python 3",
   "language": "python",
   "name": "python3"
  },
  "language_info": {
   "codemirror_mode": {
    "name": "ipython",
    "version": 3
   },
   "file_extension": ".py",
   "mimetype": "text/x-python",
   "name": "python",
   "nbconvert_exporter": "python",
   "pygments_lexer": "ipython3",
   "version": "3.6.1"
  }
 },
 "nbformat": 4,
 "nbformat_minor": 0
}
